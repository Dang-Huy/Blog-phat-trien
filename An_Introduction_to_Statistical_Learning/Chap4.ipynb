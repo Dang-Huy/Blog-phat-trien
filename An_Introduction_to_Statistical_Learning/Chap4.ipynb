{
 "cells": [
  {
   "cell_type": "markdown",
   "id": "f4a0a5b2",
   "metadata": {},
   "source": [
    "# Hi mọi người, mình sẽ tiếp tục học về Classification nhé.\n",
    "- Chương này nói về classification (phân loại) – một kỹ thuật dự đoán biến phản hồi (response variable) định tính (qualitative) hay còn gọi là categorical (phân loại), trái ngược với hồi quy tuyến tính (linear regression) dùng cho biến phản hồi định lượng (quantitative)."
   ]
  },
  {
   "cell_type": "markdown",
   "id": "9a4a61c9",
   "metadata": {},
   "source": [
    "## Trước khi bắt đầu, tại sao chúng ta không dùng Linear Regression cho Classification?\n",
    "- Nếu biến categorical có 3 lớp (multi-class): Ví dụ bạn muốn forecast khả năng của bạn bị 1 trong 3 loại bệnh stroke, drug overdose và epileptic seizure. Giả sử bạn mã hóa biến Y như sau: Y = 1 nếu bị stroke (đột quỵ) Y = 2 nếu bị drug overdose (quá liều thuốc). Y = 3 nếu bị epileptic seizure (động kinh) x <br>\n",
    "$\\Rightarrow$ Vấn đề: Linear Regression sẽ áp đặt thứ tự giữa các lớp mà không có lý do (ví dụ: 2 gần 1 hơn 3) → không hợp lý.\n",
    "\n",
    "- Trường hợp 2 lớp (binary classification): Giả sử: Y = 0 nếu stroke Y = 1 nếu drug overdose → Dùng hồi quy tuyến tính sẽ cho ra giá trị liên tục (ví dụ: Y = 0.6). Nếu Y > 0.5 thì dự đoán là 1 (drug overdose). Nhược điểm: Kết quả có thể vượt ra khỏi [0, 1] <br>\n",
    "$\\Rightarrow$ khó diễn giải như xác suất. Không phù hợp khi có nhiều lớp.\n",
    "\n",
    "- Kết luận: Có 2 lý do chính để KHÔNG dùng Linear Regression cho phân loại: \n",
    "1) Regression không xử lý tốt biến phản hồi có nhiều lớp\n",
    "2) regression không cho ra kết quả có ý nghĩa về mặt xác suất khi biến phản hồi là phân loại."
   ]
  },
  {
   "cell_type": "markdown",
   "id": "38b60e1d",
   "metadata": {},
   "source": [
    "# Logistic Regression\n",
    "> Thuật toán đầu tiên trong Classification mà chúng ta tìm hiểu sẽ là Logistic Regression.\n",
    "## Dạng hàm Logistic (Sigmoid function)\n",
    "- Khác với Linear Regression, Logistic Regression không dự đoán giá trị liên tục mà dự đoán xác suất của biến phản hồi (response variable) thuộc về một lớp nhất định.\n",
    "- Các tính chất cần thiết cho hàm Logistic:\n",
    "  - Đầu ra là xác suất trong khoảng [0, 1].\n",
    "  - Là 1 hàm smooth nên có thể đạo hàm tại mọi điểm.\n",
    "- Có nhiều hàm sigmoid có đáp ứng các tính chất trên, nhưng dạng hàm phổ bến nhất là: \n",
    "$$\n",
    "\\mathcal{z_i} = \\sigma(z) = \\frac{1}{1 + e^{-y_i}} \\\\\n",
    "\\text{với } y_i = w_0 + w_1 x_{1i} + w_2 x_{2i} + \\dots + w_n x_{ni} = \\mathbf{w}^T \\mathbf{x}\n",
    "$$\n",
    "- Đồ thị của hàm sigmoid có hình chữ S, với giá trị đầu vào z càng lớn thì xác suất càng gần 1, và ngược lại.\n",
    "Example:\n"
   ]
  },
  {
   "cell_type": "markdown",
   "id": "5e6c2944",
   "metadata": {},
   "source": [
    "## Loss function \n",
    "- Để huấn luyện mô hình Logistic Regression, chúng ta cần một hàm mất mát (loss function) để đo lường độ chính xác của dự đoán.\n",
    "- Hàm mất mát phổ biến nhất cho Logistic Regression là Cross-Entropy Loss (hay còn gọi là Log Loss). Trước tiên thì hãy tìm hiểu về Entropy.\n",
    "\n",
    "### Entropy\n",
    "- Entropy Là độ đo của sự bất định (uncertainty). Trả lời câu hỏi: \"Trung bình cần bao nhiêu thông tin để mô tả một sự kiện xảy ra?\"\n",
    "- Công thức tính entropy của một biến ngẫu nhiên rời rạc X với các giá trị khả dĩ $x_1, x_2, ..., x_n$ và xác suất tương ứng $p_1, p_2, ..., p_n$ là:\n",
    "$$\n",
    "  H(X) = -K \\sum_{i=1}^{n} p_i \\log(p_i) \\\\\n",
    "  \\text{ Nếu dùng log cơ số 2 thì đơn vị là bit} \\\\\n",
    "  \\text{ Nếu dùng log tự nhiên thì đơn vị là nats.}\n",
    "$$\n",
    "- Khi p=1, H(X) = 0, nghĩa là không có bất định (uncertainty) vì ta đã biết chắc chắn kết quả xảy ra.\n",
    "- Lấy ví dụ về tung xúc sắc, nếu xúc sắc là công bằng thì xác suất của mỗi mặt là 1/6. Khi đó, entropy sẽ là xấp xỉ 2.585 bits. Điều này có nghĩa là cần trung bình khoảng 2.585 bits thông tin để mô tả kết quả của việc tung xúc sắc hay nói cách khác bạn cần ít nhất 3 câu hỏi yes/no để xác định mặt xúc xắc \n",
    "\n",
    "### Binary Cross-Entropy\n",
    "- Cross-entropy đo độ khác biệt giữa hai phân phối xác suất: một là phân phối thật (ground truth) p, một là phân phối dự đoán q.\n",
    "- Công thức tính Cross-Entropy giữa hai phân phối xác suất p và q là:\n",
    "$$\n",
    "  H(p, q) = - \\sum_{i=1}^{n} [p_i \\log(\\hat{p_i}) + (1 - p_i) \\log(1 - \\hat{p_i})] \\\\\n",
    "$$\n",
    "- Công thức này có thể được hiểu là trung bình của entropy của phân phối thật và phân phối dự đoán. Nói một cách dễ hiểu hơn thì nếu ta có một biến phản hồi nhị phân (binary response variable) Y với xác suất p, thì Cross-Entropy Loss sẽ đo lường độ khác biệt giữa xác suất thực tế p và xác suất dự đoán $\\hat{p}$.\n"
   ]
  },
  {
   "cell_type": "markdown",
   "id": "b00063a8",
   "metadata": {},
   "source": [
    "### Building the Loss Function\n",
    "> Sau khi đã hiểu về Entropy nói chung và Cross-Entropy nói riêng, chúng ta sẽ tiến hành xây loss function cho Logistic Regression.\n",
    "> Lưu ý: $\\mathbf{x} = [\\mathbf{x_1}, \\mathbf{x_2}, \\dots, \\mathbf{x_d}] \\in \\mathbf{R}^d $ là input vector <br> $\\mathbf{w} = [\\mathbf{w_0}, \\mathbf{w_1}, \\dots, \\mathbf{w_d}] \\in \\mathbf{R}^d$ là weight vector. \n",
    "- Đầu tiên, hãy giả sử $$P(\\mathbf{y_i} = 1 | \\mathbf{x}_i, \\mathbf{w}) = \\mathbf{z_i} \\quad \\text{và} \\quad P(\\mathbf{y_i} = 0 | \\mathbf{x}_i) = 1 - \\mathbf{z_i}$$\n",
    "- Đến đoạn này bạn có thấy gì quen quen không? Có trông giống dạng hàm của phân phối nào không? Đúng rồi, nó giống với Bernoulli distribution. Vậy nên ta sẽ giả định rằng biến phản hồi $y_i$ tuân theo phân phối Bernoulli với xác suất thành công là $\\mathbf{z_i}$. Khi đó, ta có: \n",
    "$$ P(\\mathbf{y_i} | \\mathbf{x}_i, \\mathbf{w}) = \\mathbf{z_i}^{\\mathbf{y_i}} (1 - \\mathbf{z_i})^{1 - \\mathbf{y_i}} $$\n",
    "> Bạn có thể tự chứng minh bằng cách thử với từng trường hợp của $y_i$ \n",
    "$$\\Rightarrow \\textbf{Oke, bây giờ câu hỏi đặt ra là chúng ta phải tìm tham số nhằm mục đích gì ? }$$\n",
    "- Chúng ta không thể dùng OLS như trong Linear Regression vì lý do như mình trình bày ở đầu chương và hơn nữa mục đích của OLS là làm cho dự đoán của chúng ta gần với giá trị thực tế nhất có thể. Nhưng trong case của Logistic Regression, chúng ta cần tìm tham số để phân phối xác suất mô hình “gần nhất” với phân phối sinh ra dữ liệu quan sát, dưới giả định phân phối ban đầu (Bernoulli). Do đó, phương pháp tìm tham số sẽ là Maximum Likelihood Estimation (MLE) thay vì OLS.\n",
    "Giả sử chúng ta có một bài toán phân loại nhị phân, trong đó biến phản hồi $y_i \\in \\{0, 1\\}$ và các biến đầu vào $\\mathbf{x}_i \\in \\mathbb{R}^k$.  \n",
    "- Với toàn bộ training set $\\mathbf{X} = \\{\\mathbf{x}_1, \\mathbf{x}_2, \\dots, \\mathbf{x}_n\\}$ và biến phản hồi $\\mathbf{y} = \\{y_1, y_2, \\dots, y_n\\}$, ta cần tìm tham số $\\mathbf{w}$ sao cho hàm likelihood $L(\\mathbf{w})$ là lớn nhất:\n",
    "$$ \\mathbf{w} = \\underset{\\mathbf{w}}{\\text{argmax}} P(\\mathbf{y} | \\mathbf{X}, \\mathbf{w}) = \\underset{\\mathbf{w}}{\\text{argmax}} \\prod_{i=1}^{n} \\mathbf{z_i}^{y_i} (1 - \\mathbf{z_i})^{1 - y_i} $$\n",
    "- Để giải được bài toán trên không đơn giản, một phương pháp thường dùng là chuyển sang log-likelihood và chuyển bài toán thành dạng tối thiểu hóa:\n",
    "$$ \\log L(\\mathbf{w}) = - \\log \\prod_{i=1}^{n} \\mathbf{z_i}^{y_i} (1 - \\mathbf{z_i})^{1 - y_i} = - \\sum_{i=1}^{n} [y_i \\log(\\mathbf{z_i}) + (1 - y_i) \\log(1 - \\mathbf{z_i})] $$\n",
    "> Ở đây chúng ta sẽ apply các phương pháp tìm nghiệm trong Optimization như Stochastic Gradient Descent kết hợp nhiều technique khác để giải bài toán này. Quy trình khá phức tạp nên mình sẽ để các bạn tự tìm hiểu nhé."
   ]
  },
  {
   "cell_type": "markdown",
   "id": "38c25baf",
   "metadata": {},
   "source": [
    "## Multinomial Logistic Regression\n",
    "- Logistic Regression có thể mở rộng cho trường hợp phân loại đa lớp (multi-class classification) thông qua Multinomial Logistic Regression (hay Softmax Regression).\n",
    "- Dạng hàm Softmax: \n",
    "$$P(y_i = k \\mid \\mathbf{x}_i) = \\frac{e^{\\mathbf{w}_k^T \\mathbf{x}_i}}{\\sum_{j=1}^K e^{\\mathbf{w}_j^T \\mathbf{x}_i}} \\\\\n",
    "\\text{với } z_i = w_0 + w_1 x_{1i} + w_2 x_{2i} + \\dots + w_n x_{ni} = \\mathbf{w}^T \\mathbf{x}\n",
    "$$\n",
    "- Loss function:\n",
    "$$L(\\mathbf{y}, \\hat{\\mathbf{y}}) = -\\sum_{i=1}^n \\sum_{k=1}^K \\mathbb{1}(y_i = k) \\cdot \\log P(y_i = k \\mid \\mathbf{x}_i)$$\n",
    "\n",
    "## Tóm tắt quy trình\n",
    "- Oke vậy cứ coi là chúng ta đã nắm được các công thức toán cơ bản của model này rồi nhé. Giờ mình sẽ tóm tắt lại 2 quy trình train và predict của Logistic Regression 1 cách tổng quát (multinomial) để các bạn dễ hình dung hơn nhé.\n",
    "### Quy trình huấn luyện (Training)\n",
    "- Đưa dữ liệu đầu vào vào Loss Function để tìm tham số $\\mathbf{w}$ sao cho hàm mất mát là nhỏ nhất, nên nhớ lúc này chúng ta có k vector tham số w tương ứng với k classes.\n",
    "- Sử dụng các phương pháp tối ưu hóa như Gradient Descent để cập nhật tham số $\\mathbf{w}$.\n",
    "### Quy trình dự đoán (Prediction)\n",
    "- Đưa datapoint x mà chúng ta muốn tìm class của nó vào hàm softmax để tính xác suất của từng lớp.\n",
    "> Vì chúng ta đã tìm được tham số k vector tham số w, công thức của softmax chính là = score của datapoint tại 1 class chia cho tổng score của tất cả các class.\n",
    "- Sau cùng chúng ta sẽ có 1 vector xác suất có size là k tương ứng với k classes. Chúng ta sẽ chọn class có xác suất cao nhất làm dự đoán cuối cùng cho datapoint x."
   ]
  },
  {
   "cell_type": "code",
   "execution_count": 13,
   "id": "f847e190",
   "metadata": {},
   "outputs": [
    {
     "name": "stdout",
     "output_type": "stream",
     "text": [
      "              precision    recall  f1-score   support\n",
      "\n",
      "        Arts       1.00      1.00      1.00         1\n",
      "    Business       1.00      1.00      1.00         1\n",
      "\n",
      "    accuracy                           1.00         2\n",
      "   macro avg       1.00      1.00      1.00         2\n",
      "weighted avg       1.00      1.00      1.00         2\n",
      "\n"
     ]
    }
   ],
   "source": [
    "# Import necessary libraries\n",
    "import pandas as pd\n",
    "from sklearn.model_selection import train_test_split\n",
    "from sklearn.linear_model import LogisticRegression\n",
    "from sklearn.metrics import classification_report\n",
    " \n",
    "# Load the dataset\n",
    "file_path = r'c:\\Users\\Huy\\Downloads\\multinomial_logistic_sample.csv'\n",
    "data = pd.read_csv(file_path)\n",
    " \n",
    "# Prepare the data\n",
    "X = data[['Gender', 'Math_Score', 'English_Score', 'Interest']]\n",
    "y = data['Major']\n",
    " \n",
    "# One-hot encode categorical variables\n",
    "X = pd.get_dummies(X, columns=['Gender', 'Interest'], drop_first=True)\n",
    " \n",
    "# Split the data into training and testing sets\n",
    "X_train, X_test, y_train, y_test = train_test_split(X, y, test_size=0.2, random_state=42)\n",
    " \n",
    "# Create and train the multinomial logistic regression model\n",
    "model = LogisticRegression(multi_class='multinomial', solver='lbfgs', max_iter=1000)\n",
    "model.fit(X_train, y_train)\n",
    " \n",
    "# Make predictions\n",
    "y_pred = model.predict(X_test)\n",
    " \n",
    "# Evaluate the model\n",
    "print(classification_report(y_test, y_pred))"
   ]
  },
  {
   "cell_type": "code",
   "execution_count": 2,
   "id": "5554d2be",
   "metadata": {},
   "outputs": [
    {
     "name": "stdout",
     "output_type": "stream",
     "text": [
      "Epoch 0, Loss: 0.090986, Weights: [0.         0.24644698 0.24360677]\n",
      "Epoch 100, Loss: 0.002503, Weights: [-2.60627600e-04  6.53143876e-01  6.48919322e-01]\n",
      "Epoch 200, Loss: 0.001311, Weights: [-0.0008134   0.72892644  0.72504199]\n",
      "Epoch 300, Loss: 0.000895, Weights: [-0.00126835  0.77413681  0.77056456]\n",
      "Epoch 400, Loss: 0.000681, Weights: [-0.00165888  0.80655209  0.80325674]\n",
      "Epoch 500, Loss: 0.000552, Weights: [-0.00200391  0.83187383  0.82882666]\n",
      "Epoch 600, Loss: 0.000464, Weights: [-0.00231484  0.85267333  0.84985145]\n",
      "Epoch 700, Loss: 0.000401, Weights: [-0.00259905  0.87033367  0.86771857]\n",
      "Epoch 800, Loss: 0.000353, Weights: [-0.00286164  0.88568563  0.88326201]\n",
      "Epoch 900, Loss: 0.000316, Weights: [-0.0031063   0.89926771  0.8970227 ]\n",
      "\n",
      "✅ Trọng số cuối cùng: [-0.00333356  0.91133328  0.90925428]\n",
      "➡️ Tổng độ lớn trọng số: 1.2873549650811758\n"
     ]
    },
    {
     "data": {
      "image/png": "[encoded data removed]",
      "text/plain": [
       "<Figure size 640x480 with 1 Axes>"
      ]
     },
     "metadata": {},
     "output_type": "display_data"
    }
   ],
   "source": [
    "import numpy as np\n",
    "import matplotlib.pyplot as plt\n",
    "\n",
    "# Tạo dữ liệu phân tách rõ ràng\n",
    "np.random.seed(0)\n",
    "n = 100\n",
    "\n",
    "# Lớp 0: cụm ở (0, 0)\n",
    "X0 = np.random.normal(loc=-5, scale=1, size=(n, 2))\n",
    "y0 = np.zeros(n)\n",
    "\n",
    "# Lớp 1: cụm ở (5, 5)\n",
    "X1 = np.random.normal(loc=5, scale=1, size=(n, 2))\n",
    "y1 = np.ones(n)\n",
    "\n",
    "# Kết hợp dữ liệu\n",
    "X = np.vstack([X0, X1])\n",
    "y = np.concatenate([y0, y1])\n",
    "\n",
    "# Thêm cột 1 cho bias term\n",
    "X_aug = np.hstack([np.ones((X.shape[0], 1)), X])\n",
    "\n",
    "# Hàm sigmoid\n",
    "def sigmoid(z):\n",
    "    return 1 / (1 + np.exp(-z))\n",
    "\n",
    "# Hàm loss (log loss)\n",
    "def loss_fn(w, X, y):\n",
    "    z = X @ w\n",
    "    p = sigmoid(z)\n",
    "    return -np.mean(y * np.log(p + 1e-8) + (1 - y) * np.log(1 - p + 1e-8))\n",
    "\n",
    "# Gradient descent\n",
    "w = np.zeros(X_aug.shape[1])\n",
    "lr = 0.1\n",
    "losses = []\n",
    "\n",
    "for epoch in range(1000):\n",
    "    z = X_aug @ w\n",
    "    p = sigmoid(z)\n",
    "    grad = X_aug.T @ (p - y) / len(y)\n",
    "    w -= lr * grad\n",
    "    current_loss = loss_fn(w, X_aug, y)\n",
    "    losses.append(current_loss)\n",
    "    \n",
    "    if epoch % 100 == 0:\n",
    "        print(f\"Epoch {epoch}, Loss: {current_loss:.6f}, Weights: {w}\")\n",
    "\n",
    "# In kết quả cuối cùng\n",
    "print(\"\\n✅ Trọng số cuối cùng:\", w)\n",
    "print(\"➡️ Tổng độ lớn trọng số:\", np.linalg.norm(w))\n",
    "\n",
    "# Vẽ loss theo epoch\n",
    "plt.plot(losses)\n",
    "plt.xlabel(\"Epoch\")\n",
    "plt.ylabel(\"Loss\")\n",
    "plt.title(\"Log Loss qua các epoch\")\n",
    "plt.grid(True)\n",
    "plt.show()\n"
   ]
  }
 ],
 "metadata": {
  "kernelspec": {
   "display_name": "base",
   "language": "python",
   "name": "python3"
  },
  "language_info": {
   "codemirror_mode": {
    "name": "ipython",
    "version": 3
   },
   "file_extension": ".py",
   "mimetype": "text/x-python",
   "name": "python",
   "nbconvert_exporter": "python",
   "pygments_lexer": "ipython3",
   "version": "3.12.4"
  }
 },
 "nbformat": 4,
 "nbformat_minor": 5
}
